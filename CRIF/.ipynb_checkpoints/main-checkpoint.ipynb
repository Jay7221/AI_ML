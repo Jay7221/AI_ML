{
 "cells": [
  {
   "cell_type": "code",
   "execution_count": 3,
   "id": "41ff61ae",
   "metadata": {},
   "outputs": [
    {
     "name": "stderr",
     "output_type": "stream",
     "text": [
      "2023-01-13 19:56:54.666628: I tensorflow/core/platform/cpu_feature_guard.cc:193] This TensorFlow binary is optimized with oneAPI Deep Neural Network Library (oneDNN) to use the following CPU instructions in performance-critical operations:  AVX2 AVX512F AVX512_VNNI FMA\n",
      "To enable them in other operations, rebuild TensorFlow with the appropriate compiler flags.\n",
      "2023-01-13 19:56:54.921680: I tensorflow/core/util/port.cc:104] oneDNN custom operations are on. You may see slightly different numerical results due to floating-point round-off errors from different computation orders. To turn them off, set the environment variable `TF_ENABLE_ONEDNN_OPTS=0`.\n",
      "2023-01-13 19:56:56.373747: W tensorflow/compiler/xla/stream_executor/platform/default/dso_loader.cc:64] Could not load dynamic library 'libnvinfer.so.7'; dlerror: libnvinfer.so.7: cannot open shared object file: No such file or directory\n",
      "2023-01-13 19:56:56.373853: W tensorflow/compiler/xla/stream_executor/platform/default/dso_loader.cc:64] Could not load dynamic library 'libnvinfer_plugin.so.7'; dlerror: libnvinfer_plugin.so.7: cannot open shared object file: No such file or directory\n",
      "2023-01-13 19:56:56.373865: W tensorflow/compiler/tf2tensorrt/utils/py_utils.cc:38] TF-TRT Warning: Cannot dlopen some TensorRT libraries. If you would like to use Nvidia GPU with TensorRT, please make sure the missing libraries mentioned above are installed properly.\n",
      "2023-01-13 19:56:58.219695: I tensorflow/compiler/xla/stream_executor/cuda/cuda_gpu_executor.cc:981] successful NUMA node read from SysFS had negative value (-1), but there must be at least one NUMA node, so returning NUMA node zero\n",
      "2023-01-13 19:56:58.311781: W tensorflow/compiler/xla/stream_executor/platform/default/dso_loader.cc:64] Could not load dynamic library 'libcudnn.so.8'; dlerror: libcudnn.so.8: cannot open shared object file: No such file or directory\n",
      "2023-01-13 19:56:58.311868: W tensorflow/core/common_runtime/gpu/gpu_device.cc:1934] Cannot dlopen some GPU libraries. Please make sure the missing libraries mentioned above are installed properly if you would like to use GPU. Follow the guide at https://www.tensorflow.org/install/gpu for how to download and setup the required libraries for your platform.\n",
      "Skipping registering GPU devices...\n"
     ]
    },
    {
     "name": "stdout",
     "output_type": "stream",
     "text": [
      "Setup Complete!\n"
     ]
    }
   ],
   "source": [
    "import spacy\n",
    "import newsapi\n",
    "from newsapi import NewsApiClient\n",
    "API_KEY = 'd83a0fb9e3104414a3693c6c4fdab735'\n",
    "print(\"Setup Complete!\")"
   ]
  },
  {
   "cell_type": "code",
   "execution_count": 2,
   "id": "88d9729a",
   "metadata": {},
   "outputs": [],
   "source": [
    "nlp = spacy.load('en_core_web_md')"
   ]
  },
  {
   "cell_type": "code",
   "execution_count": 3,
   "id": "58975383",
   "metadata": {},
   "outputs": [],
   "source": [
    "RISK_WORDS = [\"fraud\"]\n",
    "RISK_TOKENS = []\n",
    "for risk_word in RISK_WORDS:\n",
    "    doc = nlp(risk_word)\n",
    "    for risk_token in doc:\n",
    "        RISK_TOKENS.append(risk_token)\n",
    "    for risk_token in doc.ents:\n",
    "        print(risk_token)\n",
    "        RISK_TOKENS.append(risk_token)"
   ]
  },
  {
   "cell_type": "code",
   "execution_count": 4,
   "id": "f56ad5bc",
   "metadata": {},
   "outputs": [],
   "source": [
    "company_name = \"exxon_mobile\""
   ]
  },
  {
   "cell_type": "code",
   "execution_count": 5,
   "id": "fdcc99b4",
   "metadata": {},
   "outputs": [],
   "source": [
    "def get_score(text):\n",
    "    doc = nlp(text)\n",
    "    score = 0\n",
    "    for risk_token in RISK_TOKENS:\n",
    "        score = max(score, risk_token.similarity(doc))\n",
    "    return score\n",
    "def get_score_token(token):\n",
    "    score = 0\n",
    "    for risk_token in RISK_TOKENS:\n",
    "        print(risk_token, token)\n",
    "        score = max(score, token.similarity(risk_token))\n",
    "    return score\n",
    "\n",
    "def get_score_sentence(sentence):\n",
    "    score = 0\n",
    "    doc = nlp(sentence)\n",
    "    for token in doc:\n",
    "        score += get_score_token(token)\n",
    "    return score"
   ]
  },
  {
   "cell_type": "code",
   "execution_count": 6,
   "id": "6ca9a8be",
   "metadata": {},
   "outputs": [
    {
     "name": "stdout",
     "output_type": "stream",
     "text": [
      "0.45031509132842057\n"
     ]
    }
   ],
   "source": [
    "text = \"fraud fraud\"\n",
    "doc1 = nlp(\"Dishonest\")\n",
    "doc2 = nlp(\"You are a fraud\")\n",
    "print(get_score(\"Hi you are a fraudster\"))"
   ]
  },
  {
   "cell_type": "code",
   "execution_count": 7,
   "id": "d857b034",
   "metadata": {},
   "outputs": [
    {
     "ename": "NameError",
     "evalue": "name 'token' is not defined",
     "output_type": "error",
     "traceback": [
      "\u001b[0;31m---------------------------------------------------------------------------\u001b[0m",
      "\u001b[0;31mNameError\u001b[0m                                 Traceback (most recent call last)",
      "Cell \u001b[0;32mIn [7], line 1\u001b[0m\n\u001b[0;32m----> 1\u001b[0m \u001b[38;5;28mprint\u001b[39m(\u001b[43mtoken\u001b[49m, token2, token\u001b[38;5;241m.\u001b[39msimilarity(token2))\n",
      "\u001b[0;31mNameError\u001b[0m: name 'token' is not defined"
     ]
    }
   ],
   "source": [
    "# print(token, token2, token.similarity(token2))"
   ]
  },
  {
   "cell_type": "code",
   "execution_count": null,
   "id": "ce141d2d",
   "metadata": {},
   "outputs": [],
   "source": [
    "# nlp.add_pipe(\"sentencizer\")"
   ]
  },
  {
   "cell_type": "code",
   "execution_count": null,
   "id": "26b277e0",
   "metadata": {},
   "outputs": [],
   "source": [
    "nlp.analyze_pipes()"
   ]
  },
  {
   "cell_type": "code",
   "execution_count": null,
   "id": "8fcad4d7",
   "metadata": {},
   "outputs": [],
   "source": [
    "nlp2 = spacy.load(\"en_core_web_sm\")"
   ]
  },
  {
   "cell_type": "code",
   "execution_count": null,
   "id": "9053a745",
   "metadata": {},
   "outputs": [],
   "source": [
    "nlp2.analyze_pipes()"
   ]
  },
  {
   "cell_type": "code",
   "execution_count": null,
   "id": "7a6cf029",
   "metadata": {},
   "outputs": [],
   "source": [
    "doc_temp = nlp(\"This is the Microsoft Office.\")\n",
    "for ent in doc_temp.ents:\n",
    "    print(type(ent))\n",
    "    print(ent, ent.label_)"
   ]
  },
  {
   "cell_type": "code",
   "execution_count": null,
   "id": "9bda36e2",
   "metadata": {},
   "outputs": [],
   "source": [
    "for ent in nlp(\"Mr. Jay Shirgupe\").ents:\n",
    "    print(ent, ent.label_)"
   ]
  },
  {
   "cell_type": "code",
   "execution_count": null,
   "id": "b648f152",
   "metadata": {},
   "outputs": [],
   "source": [
    "ruler = nlp.add_pipe(\"entity_ruler\")"
   ]
  },
  {
   "cell_type": "code",
   "execution_count": null,
   "id": "6780fd8f",
   "metadata": {},
   "outputs": [],
   "source": [
    "nlp.analyze_pipes()"
   ]
  },
  {
   "cell_type": "code",
   "execution_count": 12,
   "id": "faf0eacb",
   "metadata": {},
   "outputs": [],
   "source": [
    "patterns = [\n",
    "    {\n",
    "        \"label\" : \"GPE\",\n",
    "        \"pattern\" : \"Icchalkaranji\",\n",
    "    },\n",
    "    {\n",
    "        \"label\" : \"Some Word\",\n",
    "        \"pattern\" : \"This\"\n",
    "    },\n",
    "    {\n",
    "        \"label\":\"Fraud\",\n",
    "        \"pattern\" : \"RISK\",\n",
    "    }\n",
    "]"
   ]
  },
  {
   "cell_type": "code",
   "execution_count": 13,
   "id": "115e67ce",
   "metadata": {},
   "outputs": [
    {
     "ename": "NameError",
     "evalue": "name 'ruler' is not defined",
     "output_type": "error",
     "traceback": [
      "\u001b[0;31m---------------------------------------------------------------------------\u001b[0m",
      "\u001b[0;31mNameError\u001b[0m                                 Traceback (most recent call last)",
      "Cell \u001b[0;32mIn [13], line 1\u001b[0m\n\u001b[0;32m----> 1\u001b[0m \u001b[43mruler\u001b[49m\u001b[38;5;241m.\u001b[39madd_patterns(patterns)\n",
      "\u001b[0;31mNameError\u001b[0m: name 'ruler' is not defined"
     ]
    }
   ],
   "source": [
    "ruler.add_patterns(patterns)"
   ]
  },
  {
   "cell_type": "code",
   "execution_count": null,
   "id": "35ac19d6",
   "metadata": {},
   "outputs": [],
   "source": [
    "for ent in nlp(\"This is Icchalkaranji!\").ents:\n",
    "    print(ent, ent.label_)"
   ]
  },
  {
   "cell_type": "code",
   "execution_count": 4,
   "id": "be7cba71",
   "metadata": {},
   "outputs": [],
   "source": [
    "nlp2 = spacy.load(\"en_core_web_sm\")"
   ]
  },
  {
   "cell_type": "code",
   "execution_count": 9,
   "id": "45c924b4",
   "metadata": {},
   "outputs": [
    {
     "ename": "ValueError",
     "evalue": "[E007] 'entity_ruler' already exists in pipeline. Existing names: ['tok2vec', 'tagger', 'parser', 'senter', 'attribute_ruler', 'lemmatizer', 'entity_ruler', 'ner']",
     "output_type": "error",
     "traceback": [
      "\u001b[0;31m---------------------------------------------------------------------------\u001b[0m",
      "\u001b[0;31mValueError\u001b[0m                                Traceback (most recent call last)",
      "Cell \u001b[0;32mIn [9], line 1\u001b[0m\n\u001b[0;32m----> 1\u001b[0m ruler2 \u001b[38;5;241m=\u001b[39m  \u001b[43mnlp2\u001b[49m\u001b[38;5;241;43m.\u001b[39;49m\u001b[43madd_pipe\u001b[49m\u001b[43m(\u001b[49m\u001b[38;5;124;43m\"\u001b[39;49m\u001b[38;5;124;43mentity_ruler\u001b[39;49m\u001b[38;5;124;43m\"\u001b[39;49m\u001b[43m,\u001b[49m\u001b[43m \u001b[49m\u001b[43mbefore\u001b[49m\u001b[38;5;241;43m=\u001b[39;49m\u001b[38;5;124;43m\"\u001b[39;49m\u001b[38;5;124;43mner\u001b[39;49m\u001b[38;5;124;43m\"\u001b[39;49m\u001b[43m)\u001b[49m\n",
      "File \u001b[0;32m~/.local/lib/python3.10/site-packages/spacy/language.py:782\u001b[0m, in \u001b[0;36mLanguage.add_pipe\u001b[0;34m(self, factory_name, name, before, after, first, last, source, config, raw_config, validate)\u001b[0m\n\u001b[1;32m    780\u001b[0m name \u001b[38;5;241m=\u001b[39m name \u001b[38;5;28;01mif\u001b[39;00m name \u001b[38;5;129;01mis\u001b[39;00m \u001b[38;5;129;01mnot\u001b[39;00m \u001b[38;5;28;01mNone\u001b[39;00m \u001b[38;5;28;01melse\u001b[39;00m factory_name\n\u001b[1;32m    781\u001b[0m \u001b[38;5;28;01mif\u001b[39;00m name \u001b[38;5;129;01min\u001b[39;00m \u001b[38;5;28mself\u001b[39m\u001b[38;5;241m.\u001b[39mcomponent_names:\n\u001b[0;32m--> 782\u001b[0m     \u001b[38;5;28;01mraise\u001b[39;00m \u001b[38;5;167;01mValueError\u001b[39;00m(Errors\u001b[38;5;241m.\u001b[39mE007\u001b[38;5;241m.\u001b[39mformat(name\u001b[38;5;241m=\u001b[39mname, opts\u001b[38;5;241m=\u001b[39m\u001b[38;5;28mself\u001b[39m\u001b[38;5;241m.\u001b[39mcomponent_names))\n\u001b[1;32m    783\u001b[0m \u001b[38;5;66;03m# Overriding pipe name in the config is not supported and will be ignored.\u001b[39;00m\n\u001b[1;32m    784\u001b[0m \u001b[38;5;28;01mif\u001b[39;00m \u001b[38;5;124m\"\u001b[39m\u001b[38;5;124mname\u001b[39m\u001b[38;5;124m\"\u001b[39m \u001b[38;5;129;01min\u001b[39;00m config:\n",
      "\u001b[0;31mValueError\u001b[0m: [E007] 'entity_ruler' already exists in pipeline. Existing names: ['tok2vec', 'tagger', 'parser', 'senter', 'attribute_ruler', 'lemmatizer', 'entity_ruler', 'ner']"
     ]
    }
   ],
   "source": [
    "ruler2 =  nlp2.add_pipe(\"entity_ruler\", before=\"ner\")"
   ]
  },
  {
   "cell_type": "code",
   "execution_count": 14,
   "id": "5d796494",
   "metadata": {},
   "outputs": [],
   "source": [
    "ruler2.add_patterns(patterns)"
   ]
  },
  {
   "cell_type": "code",
   "execution_count": 15,
   "id": "9599a95c",
   "metadata": {},
   "outputs": [
    {
     "name": "stdout",
     "output_type": "stream",
     "text": [
      "This Some Word\n",
      "Icchalkaranji GPE\n"
     ]
    }
   ],
   "source": [
    "for ent in nlp2(\"This is Icchalkaranji!\").ents:\n",
    "    print(ent, ent.label_)"
   ]
  },
  {
   "cell_type": "code",
   "execution_count": 18,
   "id": "7cd05ce5",
   "metadata": {},
   "outputs": [
    {
     "name": "stderr",
     "output_type": "stream",
     "text": [
      "/tmp/ipykernel_12526/4223805149.py:1: UserWarning: [W007] The model you're using has no word vectors loaded, so the result of the Doc.similarity method will be based on the tagger, parser and NER, which may not give useful similarity judgements. This may happen if you're using one of the small models, e.g. `en_core_web_sm`, which don't ship with word vectors and only use context-sensitive tensors. You can always add your own word vectors, or use one of the larger models instead if available.\n",
      "  nlp2(\"You are a fraud\").similarity(nlp2(\"You are fraud\"))\n"
     ]
    },
    {
     "data": {
      "text/plain": [
       "0.7479714637762022"
      ]
     },
     "execution_count": 18,
     "metadata": {},
     "output_type": "execute_result"
    }
   ],
   "source": [
    "nlp2(\"You are a fraud\").similarity(nlp2(\"You are fraud\"))"
   ]
  },
  {
   "cell_type": "code",
   "execution_count": 29,
   "id": "c7d3d610",
   "metadata": {},
   "outputs": [
    {
     "name": "stdout",
     "output_type": "stream",
     "text": [
      "117\n",
      "260\n",
      "260\n",
      "108\n",
      "260\n",
      "260\n",
      "260\n",
      "260\n",
      "260\n",
      "195\n",
      "229\n",
      "260\n",
      "182\n"
     ]
    }
   ],
   "source": [
    "news = NewsApiClient(api_key=API_KEY)\n",
    "res = news.get_everything(\"exxon_mobile\")\n",
    "for art in res['articles']:\n",
    "    print(len(art['description']))"
   ]
  },
  {
   "cell_type": "code",
   "execution_count": null,
   "id": "2ae15563",
   "metadata": {},
   "outputs": [],
   "source": []
  }
 ],
 "metadata": {
  "kernelspec": {
   "display_name": "Python 3 (ipykernel)",
   "language": "python",
   "name": "python3"
  },
  "language_info": {
   "codemirror_mode": {
    "name": "ipython",
    "version": 3
   },
   "file_extension": ".py",
   "mimetype": "text/x-python",
   "name": "python",
   "nbconvert_exporter": "python",
   "pygments_lexer": "ipython3",
   "version": "3.10.6"
  }
 },
 "nbformat": 4,
 "nbformat_minor": 5
}
